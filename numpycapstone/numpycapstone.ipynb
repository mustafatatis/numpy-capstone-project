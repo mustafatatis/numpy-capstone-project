{
 "cells": [
  {
   "cell_type": "markdown",
   "id": "7f5229c7",
   "metadata": {},
   "source": [
    "# NUMPY CAPSTONE PROJECT - BLOOD DONATION\n",
    "![blood_donation.png](blood_donation.png)\n",
    "<p>Blood transfusion saves lives - from replacing lost blood during major surgery or a serious injury to treating various illnesses and blood disorders. Ensuring that there's enough blood in supply whenever needed is a serious challenge for the health professionals. According to <a href=\"https://www.webmd.com/a-to-z-guides/blood-transfusion-what-to-know#1\">WebMD</a>, \"about 5 million Americans need a blood transfusion every year\".</p>\n",
    "<p>Our dataset is from a mobile blood donation vehicle in Taiwan.</p>\n",
    "<p>The data is stored in <code>datasets/transfusion.data</code> and it is structured according to RFMTC marketing model (a variation of RFM). \n",
    "<p>In this project, you are going to inspect the data using Numpy.</p>"
   ]
  },
  {
   "cell_type": "markdown",
   "id": "440d898f",
   "metadata": {},
   "source": [
    "#### IMPORTING LIBRARIES AND DATA\n",
    "\n",
    "* Import `numpy` as np and genfromtxt as follows: `from numpy import genfromtxt`\n",
    "\n",
    "* Call the data by using gentxt as follows: `gentxt(\"YourDirectory\", delimiter = \",\"`"
   ]
  },
  {
   "cell_type": "code",
   "execution_count": 49,
   "id": "7b062555",
   "metadata": {},
   "outputs": [
    {
     "data": {
      "text/plain": [
       "array([[     nan,      nan,      nan,      nan,      nan],\n",
       "       [2.00e+00, 5.00e+01, 1.25e+04, 9.80e+01, 1.00e+00],\n",
       "       [0.00e+00, 1.30e+01, 3.25e+03, 2.80e+01, 1.00e+00],\n",
       "       ...,\n",
       "       [2.30e+01, 3.00e+00, 7.50e+02, 6.20e+01, 0.00e+00],\n",
       "       [3.90e+01, 1.00e+00, 2.50e+02, 3.90e+01, 0.00e+00],\n",
       "       [7.20e+01, 1.00e+00, 2.50e+02, 7.20e+01, 0.00e+00]])"
      ]
     },
     "execution_count": 49,
     "metadata": {},
     "output_type": "execute_result"
    }
   ],
   "source": [
    "import numpy as np\n",
    "\n",
    "from numpy import genfromtxt \n",
    "\n",
    "my_data = genfromtxt(\"datasets/transfusion.data\",\n",
    "                    delimiter = \",\")\n",
    "my_data"
   ]
  },
  {
   "cell_type": "markdown",
   "id": "4ce70d89",
   "metadata": {},
   "source": [
    "* Inspect our data's type by `my_data`"
   ]
  },
  {
   "cell_type": "code",
   "execution_count": 2,
   "id": "ac7a2a73",
   "metadata": {},
   "outputs": [
    {
     "data": {
      "text/plain": [
       "numpy.ndarray"
      ]
     },
     "execution_count": 2,
     "metadata": {},
     "output_type": "execute_result"
    }
   ],
   "source": [
    "type(my_data)"
   ]
  },
  {
   "cell_type": "code",
   "execution_count": 3,
   "id": "1ea1a678",
   "metadata": {},
   "outputs": [
    {
     "data": {
      "text/plain": [
       "2"
      ]
     },
     "execution_count": 3,
     "metadata": {},
     "output_type": "execute_result"
    }
   ],
   "source": [
    "my_data.ndim"
   ]
  },
  {
   "cell_type": "markdown",
   "id": "a18ef41d",
   "metadata": {},
   "source": [
    "* Use `ndim` to see how many dimensions data has."
   ]
  },
  {
   "cell_type": "code",
   "execution_count": 4,
   "id": "b4e23925",
   "metadata": {},
   "outputs": [
    {
     "data": {
      "text/plain": [
       "2"
      ]
     },
     "execution_count": 4,
     "metadata": {},
     "output_type": "execute_result"
    }
   ],
   "source": [
    "my_data.ndim"
   ]
  },
  {
   "cell_type": "markdown",
   "id": "d6d03703",
   "metadata": {},
   "source": [
    "* Return the first row our data."
   ]
  },
  {
   "cell_type": "code",
   "execution_count": 5,
   "id": "05a65cdb",
   "metadata": {},
   "outputs": [
    {
     "data": {
      "text/plain": [
       "array([nan, nan, nan, nan, nan])"
      ]
     },
     "execution_count": 5,
     "metadata": {},
     "output_type": "execute_result"
    }
   ],
   "source": [
    "my_data[0]"
   ]
  },
  {
   "cell_type": "markdown",
   "id": "4378c3f4",
   "metadata": {},
   "source": [
    "* First row contains `nan` values. Delete `nan` values by `np.delete()`\n",
    "* Note: `nan` values are located in `0,0`"
   ]
  },
  {
   "cell_type": "code",
   "execution_count": 50,
   "id": "6d3749d4",
   "metadata": {},
   "outputs": [],
   "source": [
    "my_data=np.delete(my_data,0, axis=0) "
   ]
  },
  {
   "cell_type": "markdown",
   "id": "50200b92",
   "metadata": {},
   "source": [
    "* Return `my_data` to check whether you removed `nan` values or not."
   ]
  },
  {
   "cell_type": "code",
   "execution_count": 51,
   "id": "4a0a3725",
   "metadata": {},
   "outputs": [
    {
     "data": {
      "text/plain": [
       "array([[2.00e+00, 5.00e+01, 1.25e+04, 9.80e+01, 1.00e+00],\n",
       "       [0.00e+00, 1.30e+01, 3.25e+03, 2.80e+01, 1.00e+00],\n",
       "       [1.00e+00, 1.60e+01, 4.00e+03, 3.50e+01, 1.00e+00],\n",
       "       ...,\n",
       "       [2.30e+01, 3.00e+00, 7.50e+02, 6.20e+01, 0.00e+00],\n",
       "       [3.90e+01, 1.00e+00, 2.50e+02, 3.90e+01, 0.00e+00],\n",
       "       [7.20e+01, 1.00e+00, 2.50e+02, 7.20e+01, 0.00e+00]])"
      ]
     },
     "execution_count": 51,
     "metadata": {},
     "output_type": "execute_result"
    }
   ],
   "source": [
    "my_data"
   ]
  },
  {
   "cell_type": "markdown",
   "id": "6a501250",
   "metadata": {},
   "source": [
    "* To see the dimensions of the data, use `shape`"
   ]
  },
  {
   "cell_type": "code",
   "execution_count": 8,
   "id": "a75c07d5",
   "metadata": {},
   "outputs": [
    {
     "data": {
      "text/plain": [
       "(748, 5)"
      ]
     },
     "execution_count": 8,
     "metadata": {},
     "output_type": "execute_result"
    }
   ],
   "source": [
    "my_data.shape"
   ]
  },
  {
   "cell_type": "markdown",
   "id": "7205fe4e",
   "metadata": {},
   "source": [
    "* To see how many unit(eleman) you have on your data, use `size`"
   ]
  },
  {
   "cell_type": "code",
   "execution_count": 9,
   "id": "59c457ca",
   "metadata": {},
   "outputs": [
    {
     "data": {
      "text/plain": [
       "3740"
      ]
     },
     "execution_count": 9,
     "metadata": {},
     "output_type": "execute_result"
    }
   ],
   "source": [
    "my_data.size"
   ]
  },
  {
   "cell_type": "markdown",
   "id": "bbf63a89",
   "metadata": {},
   "source": [
    "* To see the data type inside `my_data`, use `dtype`"
   ]
  },
  {
   "cell_type": "code",
   "execution_count": 10,
   "id": "c5dd187a",
   "metadata": {},
   "outputs": [
    {
     "data": {
      "text/plain": [
       "dtype('float64')"
      ]
     },
     "execution_count": 10,
     "metadata": {},
     "output_type": "execute_result"
    }
   ],
   "source": [
    "my_data.dtype"
   ]
  },
  {
   "cell_type": "markdown",
   "id": "f5a9a322",
   "metadata": {},
   "source": [
    "* To see the size of the each unit(eleman), use `itemsize`"
   ]
  },
  {
   "cell_type": "code",
   "execution_count": 11,
   "id": "f324ca6e",
   "metadata": {},
   "outputs": [
    {
     "data": {
      "text/plain": [
       "8"
      ]
     },
     "execution_count": 11,
     "metadata": {},
     "output_type": "execute_result"
    }
   ],
   "source": [
    "my_data.itemsize"
   ]
  },
  {
   "cell_type": "markdown",
   "id": "d3399a0b",
   "metadata": {},
   "source": [
    "* Create a matrix that has 2 rows and 5 columns and contains 0 by `np.zeros`. Name it as `sifir`"
   ]
  },
  {
   "cell_type": "code",
   "execution_count": 12,
   "id": "97f04136",
   "metadata": {},
   "outputs": [
    {
     "data": {
      "text/plain": [
       "array([[0., 0., 0., 0., 0.],\n",
       "       [0., 0., 0., 0., 0.]])"
      ]
     },
     "execution_count": 12,
     "metadata": {},
     "output_type": "execute_result"
    }
   ],
   "source": [
    "sifir=np.zeros((2,5))\n",
    "sifir"
   ]
  },
  {
   "cell_type": "markdown",
   "id": "70a19252",
   "metadata": {},
   "source": [
    "* Create a matrix that has 2 rows and 5 columns and contains 1 by `np.ones`. Name it as `bir`"
   ]
  },
  {
   "cell_type": "code",
   "execution_count": 13,
   "id": "2eb4ce4a",
   "metadata": {},
   "outputs": [
    {
     "data": {
      "text/plain": [
       "array([[1., 1., 1., 1., 1.],\n",
       "       [1., 1., 1., 1., 1.]])"
      ]
     },
     "execution_count": 13,
     "metadata": {},
     "output_type": "execute_result"
    }
   ],
   "source": [
    "bir=np.ones((2,5))\n",
    "bir"
   ]
  },
  {
   "cell_type": "markdown",
   "id": "b5ab5435",
   "metadata": {},
   "source": [
    "* Create a matrix that has 2 rows and 5 columns and contains 38 by `np.full`. Name it as `otuzsekiz`"
   ]
  },
  {
   "cell_type": "code",
   "execution_count": 14,
   "id": "e106e982",
   "metadata": {},
   "outputs": [
    {
     "data": {
      "text/plain": [
       "array([[38, 38, 38, 38, 38],\n",
       "       [38, 38, 38, 38, 38]])"
      ]
     },
     "execution_count": 14,
     "metadata": {},
     "output_type": "execute_result"
    }
   ],
   "source": [
    "otuzsekiz=np.full((2,5),38)\n",
    "otuzsekiz"
   ]
  },
  {
   "cell_type": "markdown",
   "id": "e843d7c0",
   "metadata": {},
   "source": [
    "* Create an eye matrix that has 5 rows and 5 columns by `np.eye`. Name it as `eye`"
   ]
  },
  {
   "cell_type": "code",
   "execution_count": 19,
   "id": "a4cda516",
   "metadata": {},
   "outputs": [
    {
     "data": {
      "text/plain": [
       "array([[1., 0., 0., 0., 0.],\n",
       "       [0., 1., 0., 0., 0.],\n",
       "       [0., 0., 1., 0., 0.],\n",
       "       [0., 0., 0., 1., 0.],\n",
       "       [0., 0., 0., 0., 1.]])"
      ]
     },
     "execution_count": 19,
     "metadata": {},
     "output_type": "execute_result"
    }
   ],
   "source": [
    "eye=np.eye(5,5)\n",
    "eye"
   ]
  },
  {
   "cell_type": "markdown",
   "id": "8dfe5ce2",
   "metadata": {},
   "source": [
    "* Create a matrix that has 2 rows and 5 columns and contains random values between 0 and 1 by `np.random.random`. Name it as `random`"
   ]
  },
  {
   "cell_type": "code",
   "execution_count": 16,
   "id": "e1aab7a6",
   "metadata": {},
   "outputs": [
    {
     "data": {
      "text/plain": [
       "array([[0.16087781, 0.6556656 , 0.87932452, 0.04118184, 0.15654564],\n",
       "       [0.5692953 , 0.29320858, 0.03507791, 0.91911427, 0.25096885]])"
      ]
     },
     "execution_count": 16,
     "metadata": {},
     "output_type": "execute_result"
    }
   ],
   "source": [
    "random=np.random.rand(2,5)\n",
    "#random=np.random.random((2,5))\n",
    "random"
   ]
  },
  {
   "cell_type": "markdown",
   "id": "50777038",
   "metadata": {},
   "source": [
    "* Create a matrix that has 2 rows and 5 columns(use `reshape` for that) and contains values increases 1 at a time, and between 1 and 10 by `np.linspace`. Name it as `linsp`"
   ]
  },
  {
   "cell_type": "code",
   "execution_count": 22,
   "id": "48ef9b43",
   "metadata": {},
   "outputs": [
    {
     "data": {
      "text/plain": [
       "array([[ 1.,  2.,  3.,  4.,  5.],\n",
       "       [ 6.,  7.,  8.,  9., 10.]])"
      ]
     },
     "execution_count": 22,
     "metadata": {},
     "output_type": "execute_result"
    }
   ],
   "source": [
    "linsp=np.linspace(1,10,10).reshape(2,5)\n",
    "linsp"
   ]
  },
  {
   "cell_type": "markdown",
   "id": "2f16da9d",
   "metadata": {},
   "source": [
    "* Extract `linsp` with `np.sqrt` and name the result as `linsp`"
   ]
  },
  {
   "cell_type": "code",
   "execution_count": 25,
   "id": "05b20213",
   "metadata": {},
   "outputs": [
    {
     "data": {
      "text/plain": [
       "array([[1.        , 1.18920712, 1.31607401, 1.41421356, 1.49534878],\n",
       "       [1.56508458, 1.62657656, 1.68179283, 1.73205081, 1.77827941]])"
      ]
     },
     "execution_count": 25,
     "metadata": {},
     "output_type": "execute_result"
    }
   ],
   "source": [
    "linsp=np.sqrt(linsp)\n",
    "linsp"
   ]
  },
  {
   "cell_type": "markdown",
   "id": "9bd68b33",
   "metadata": {},
   "source": [
    "* exponentiate `random` and name the result as `random`"
   ]
  },
  {
   "cell_type": "code",
   "execution_count": 26,
   "id": "ff8223d6",
   "metadata": {},
   "outputs": [
    {
     "data": {
      "text/plain": [
       "array([[0.02588167, 0.42989738, 0.77321161, 0.00169594, 0.02450654],\n",
       "       [0.32409714, 0.08597127, 0.00123046, 0.84477105, 0.06298536]])"
      ]
     },
     "execution_count": 26,
     "metadata": {},
     "output_type": "execute_result"
    }
   ],
   "source": [
    "random=random**2\n",
    "random"
   ]
  },
  {
   "cell_type": "markdown",
   "id": "4b5eaa83",
   "metadata": {},
   "source": [
    "* Sum `linsp` and `random` and name it as `toplam`"
   ]
  },
  {
   "cell_type": "code",
   "execution_count": 28,
   "id": "13aff782",
   "metadata": {},
   "outputs": [
    {
     "data": {
      "text/plain": [
       "array([[1.02588167, 1.6191045 , 2.08928563, 1.41590951, 1.51985532],\n",
       "       [1.88918172, 1.71254783, 1.68302329, 2.57682185, 1.84126477]])"
      ]
     },
     "execution_count": 28,
     "metadata": {},
     "output_type": "execute_result"
    }
   ],
   "source": [
    "toplam=linsp+random\n",
    "toplam"
   ]
  },
  {
   "cell_type": "markdown",
   "id": "e7b4cb2e",
   "metadata": {},
   "source": [
    "* Divide `bir` and `sifir` and name it as `bolme`\n",
    "* If you receive and warning or error, briefly explain why"
   ]
  },
  {
   "cell_type": "code",
   "execution_count": 29,
   "id": "ce8248e1",
   "metadata": {},
   "outputs": [
    {
     "name": "stderr",
     "output_type": "stream",
     "text": [
      "/var/folders/y4/bg6zwxnj7gd5hqyds_mjs1mm0000gn/T/ipykernel_4504/3085727266.py:1: RuntimeWarning: divide by zero encountered in true_divide\n",
      "  bolme=bir/sifir\n"
     ]
    }
   ],
   "source": [
    "bolme=bir/sifir\n",
    "#Python divide by zero error\n",
    "#Herhangi bir sayıyı sıfıra bölmeye çalışmaktan kaynaklanan bir hatadır.\n",
    "#Matematiksel işlemlerde bir sayıyı sıfıra bölmek tanımsız olarak değerlendirildiği için hata verir."
   ]
  },
  {
   "cell_type": "markdown",
   "id": "b0a1be6a",
   "metadata": {},
   "source": [
    "* Subtract `bir` and `sifir` and name it as `cikarma`"
   ]
  },
  {
   "cell_type": "code",
   "execution_count": 31,
   "id": "f6ae628c",
   "metadata": {},
   "outputs": [
    {
     "data": {
      "text/plain": [
       "array([[1., 1., 1., 1., 1.],\n",
       "       [1., 1., 1., 1., 1.]])"
      ]
     },
     "execution_count": 31,
     "metadata": {},
     "output_type": "execute_result"
    }
   ],
   "source": [
    "cikarma=bir-sifir\n",
    "cikarma"
   ]
  },
  {
   "cell_type": "markdown",
   "id": "9a218b5b",
   "metadata": {},
   "source": [
    "* divide  `cikarma` and `toplam`. Then, name it as `bolme`"
   ]
  },
  {
   "cell_type": "code",
   "execution_count": 32,
   "id": "5facdcf8",
   "metadata": {},
   "outputs": [
    {
     "data": {
      "text/plain": [
       "array([[0.97477129, 0.61762536, 0.4786325 , 0.70625982, 0.65795737],\n",
       "       [0.5293297 , 0.5839253 , 0.59416884, 0.38807495, 0.54310494]])"
      ]
     },
     "execution_count": 32,
     "metadata": {},
     "output_type": "execute_result"
    }
   ],
   "source": [
    "bolme=cikarma/toplam\n",
    "bolme"
   ]
  },
  {
   "cell_type": "markdown",
   "id": "bcbe2e74",
   "metadata": {},
   "source": [
    "* Multiply `toplam` and `bolme` by element basis and name it as `ecarpma`"
   ]
  },
  {
   "cell_type": "code",
   "execution_count": 34,
   "id": "e545a1d5",
   "metadata": {},
   "outputs": [
    {
     "data": {
      "text/plain": [
       "array([[1., 1., 1., 1., 1.],\n",
       "       [1., 1., 1., 1., 1.]])"
      ]
     },
     "execution_count": 34,
     "metadata": {},
     "output_type": "execute_result"
    }
   ],
   "source": [
    "ecarpma=toplam*bolme\n",
    "ecarpma"
   ]
  },
  {
   "cell_type": "markdown",
   "id": "fe6d61f3",
   "metadata": {},
   "source": [
    "* Multiply `ecarpma` and `eye` by matrix basis and name it as `mcarpma`"
   ]
  },
  {
   "cell_type": "code",
   "execution_count": 36,
   "id": "ad82ddf4",
   "metadata": {},
   "outputs": [
    {
     "data": {
      "text/plain": [
       "array([[1., 1., 1., 1., 1.],\n",
       "       [1., 1., 1., 1., 1.]])"
      ]
     },
     "execution_count": 36,
     "metadata": {},
     "output_type": "execute_result"
    }
   ],
   "source": [
    "mcarpma=ecarpma@eye\n",
    "mcarpma"
   ]
  },
  {
   "cell_type": "markdown",
   "id": "9b78d343",
   "metadata": {},
   "source": [
    "* Create matrix `a` that has following values:\n",
    "\n",
    "`[[ 1 2 3 4 5]\n",
    "  [ 6 7 8 9 10]]`"
   ]
  },
  {
   "cell_type": "code",
   "execution_count": 38,
   "id": "4d62a2b9",
   "metadata": {},
   "outputs": [
    {
     "data": {
      "text/plain": [
       "array([[ 1,  2,  3,  4,  5],\n",
       "       [ 6,  7,  8,  9, 10]])"
      ]
     },
     "execution_count": 38,
     "metadata": {},
     "output_type": "execute_result"
    }
   ],
   "source": [
    "a=np.array([[1,2,3,4,5],[6,7,8,9,10]])\n",
    "a"
   ]
  },
  {
   "cell_type": "markdown",
   "id": "16525a31",
   "metadata": {},
   "source": [
    "* Return the **boolean values** result of the values that are more than 3"
   ]
  },
  {
   "cell_type": "code",
   "execution_count": 39,
   "id": "74145564",
   "metadata": {},
   "outputs": [
    {
     "data": {
      "text/plain": [
       "array([[False, False, False,  True,  True],\n",
       "       [ True,  True,  True,  True,  True]])"
      ]
     },
     "execution_count": 39,
     "metadata": {},
     "output_type": "execute_result"
    }
   ],
   "source": [
    "a>3"
   ]
  },
  {
   "cell_type": "markdown",
   "id": "dda431d5",
   "metadata": {},
   "source": [
    "* Return the values that are more than 3"
   ]
  },
  {
   "cell_type": "code",
   "execution_count": 40,
   "id": "6a937366",
   "metadata": {},
   "outputs": [
    {
     "data": {
      "text/plain": [
       "array([ 4,  5,  6,  7,  8,  9, 10])"
      ]
     },
     "execution_count": 40,
     "metadata": {},
     "output_type": "execute_result"
    }
   ],
   "source": [
    "a[a>3]"
   ]
  },
  {
   "cell_type": "markdown",
   "id": "f95f5cdc",
   "metadata": {},
   "source": [
    "* Set the values that are more than 3 to 0 and name the result as `a`"
   ]
  },
  {
   "cell_type": "code",
   "execution_count": 41,
   "id": "6d5ad54b",
   "metadata": {},
   "outputs": [
    {
     "data": {
      "text/plain": [
       "array([[1, 2, 3, 0, 0],\n",
       "       [0, 0, 0, 0, 0]])"
      ]
     },
     "execution_count": 41,
     "metadata": {},
     "output_type": "execute_result"
    }
   ],
   "source": [
    "a[a>3]=0\n",
    "a"
   ]
  },
  {
   "cell_type": "markdown",
   "id": "64b5d06d",
   "metadata": {},
   "source": [
    "* Join `a` and `mcarpma ` by using stack functions(`axis=1`) and name it as `stc`"
   ]
  },
  {
   "cell_type": "code",
   "execution_count": 42,
   "id": "6063d59a",
   "metadata": {},
   "outputs": [
    {
     "data": {
      "text/plain": [
       "array([[[1., 2., 3., 0., 0.],\n",
       "        [1., 1., 1., 1., 1.]],\n",
       "\n",
       "       [[0., 0., 0., 0., 0.],\n",
       "        [1., 1., 1., 1., 1.]]])"
      ]
     },
     "execution_count": 42,
     "metadata": {},
     "output_type": "execute_result"
    }
   ],
   "source": [
    "stc=np.stack((a,mcarpma),axis=1)\n",
    "stc\n",
    "\n"
   ]
  },
  {
   "cell_type": "markdown",
   "id": "64e6e404",
   "metadata": {},
   "source": [
    "* Take the 1'st and 3'rd rows from `stc`, assign them to a new matrix.Name this new matrix as `guncel`"
   ]
  },
  {
   "cell_type": "code",
   "execution_count": 44,
   "id": "56449096",
   "metadata": {},
   "outputs": [
    {
     "data": {
      "text/plain": [
       "array([[[1., 2., 3., 0., 0.]],\n",
       "\n",
       "       [[0., 0., 0., 0., 0.]]])"
      ]
     },
     "execution_count": 44,
     "metadata": {},
     "output_type": "execute_result"
    }
   ],
   "source": [
    "guncel=stc[:, 0:1]\n",
    "guncel"
   ]
  },
  {
   "cell_type": "markdown",
   "id": "0a8dcab4",
   "metadata": {},
   "source": [
    "* Make guncel 2 dimensional array."
   ]
  },
  {
   "cell_type": "code",
   "execution_count": 45,
   "id": "315eb5ea",
   "metadata": {},
   "outputs": [
    {
     "data": {
      "text/plain": [
       "2"
      ]
     },
     "execution_count": 45,
     "metadata": {},
     "output_type": "execute_result"
    }
   ],
   "source": [
    "guncel=guncel.reshape(2,5)\n",
    "guncel.ndim"
   ]
  },
  {
   "cell_type": "markdown",
   "id": "17ccd507",
   "metadata": {},
   "source": [
    "* Do you remember the `my_data` that we defined above?\n",
    "* Join `my_data` with `guncel` by using `concatenate` method vertically(alt alta). Name the result as `data`"
   ]
  },
  {
   "cell_type": "code",
   "execution_count": 52,
   "id": "61084130",
   "metadata": {},
   "outputs": [
    {
     "data": {
      "text/plain": [
       "array([[2.00e+00, 5.00e+01, 1.25e+04, 9.80e+01, 1.00e+00],\n",
       "       [0.00e+00, 1.30e+01, 3.25e+03, 2.80e+01, 1.00e+00],\n",
       "       [1.00e+00, 1.60e+01, 4.00e+03, 3.50e+01, 1.00e+00],\n",
       "       ...,\n",
       "       [7.20e+01, 1.00e+00, 2.50e+02, 7.20e+01, 0.00e+00],\n",
       "       [1.00e+00, 2.00e+00, 3.00e+00, 0.00e+00, 0.00e+00],\n",
       "       [0.00e+00, 0.00e+00, 0.00e+00, 0.00e+00, 0.00e+00]])"
      ]
     },
     "execution_count": 52,
     "metadata": {},
     "output_type": "execute_result"
    }
   ],
   "source": [
    "data=np.concatenate([my_data,guncel])\n",
    "data"
   ]
  },
  {
   "cell_type": "markdown",
   "id": "714b5949",
   "metadata": {},
   "source": [
    "* Sum the columns of `data`"
   ]
  },
  {
   "cell_type": "code",
   "execution_count": 53,
   "id": "7960f8aa",
   "metadata": {},
   "outputs": [
    {
     "data": {
      "text/plain": [
       "array([7.112000e+03, 4.127000e+03, 1.031253e+06, 2.564300e+04,\n",
       "       1.780000e+02])"
      ]
     },
     "execution_count": 53,
     "metadata": {},
     "output_type": "execute_result"
    }
   ],
   "source": [
    "data.sum(axis=0)"
   ]
  },
  {
   "cell_type": "markdown",
   "id": "bd38ca4c",
   "metadata": {},
   "source": [
    "* Sum the rows of `data`"
   ]
  },
  {
   "cell_type": "code",
   "execution_count": 58,
   "id": "8e5f4def",
   "metadata": {},
   "outputs": [
    {
     "data": {
      "text/plain": [
       "array([1.2651e+04, 3.2920e+03, 4.0530e+03, 5.0680e+03, 6.1020e+03,\n",
       "       1.0120e+03, 1.7740e+03, 3.0480e+03, 2.2840e+03, 1.1650e+04,\n",
       "       5.8350e+03, 7.5700e+02, 2.5410e+03, 3.3110e+03, 1.5240e+03,\n",
       "       1.2690e+03, 3.5650e+03, 3.8170e+03, 1.5240e+03, 7.6000e+02,\n",
       "       7.6000e+02, 2.7930e+03, 1.5250e+03, 1.5250e+03, 2.2840e+03,\n",
       "       3.5580e+03, 1.5240e+03, 3.0510e+03, 1.2710e+03, 2.0330e+03,\n",
       "       3.5730e+03, 2.5430e+03, 2.5430e+03, 2.2900e+03, 4.0820e+03,\n",
       "       2.0390e+03, 3.0620e+03, 1.5270e+03, 3.5740e+03, 1.7840e+03,\n",
       "       3.3190e+03, 1.2730e+03, 1.2740e+03, 1.2730e+03, 5.0940e+03,\n",
       "       2.2920e+03, 2.2970e+03, 5.0600e+02, 5.0600e+02, 5.0600e+02,\n",
       "       2.8090e+03, 2.8100e+03, 1.5300e+03, 3.0660e+03, 1.2740e+03,\n",
       "       4.8430e+03, 2.0390e+03, 1.7880e+03, 4.0990e+03, 1.5300e+03,\n",
       "       1.7880e+03, 2.0460e+03, 2.5610e+03, 1.2760e+03, 7.6500e+02,\n",
       "       4.0930e+03, 1.0210e+03, 5.0600e+02, 1.7860e+03, 2.3110e+03,\n",
       "       1.0220e+03, 1.0220e+03, 4.3430e+03, 5.0800e+02, 5.0900e+02,\n",
       "       5.0900e+02, 1.0230e+03, 5.0800e+02, 5.0800e+02, 5.0800e+02,\n",
       "       1.5340e+03, 1.0220e+03, 1.0220e+03, 1.0220e+03, 1.5370e+03,\n",
       "       1.5360e+03, 5.1000e+02, 5.1000e+02, 5.1000e+02, 1.7950e+03,\n",
       "       5.1100e+02, 5.1000e+02, 5.1000e+02, 5.1000e+02, 2.7960e+03,\n",
       "       1.7890e+03, 4.3560e+03, 2.3020e+03, 1.0230e+03, 1.7890e+03,\n",
       "       2.0470e+03, 3.3420e+03, 2.3030e+03, 1.2830e+03, 1.2830e+03,\n",
       "       4.3430e+03, 2.0670e+03, 1.2840e+03, 7.6900e+02, 2.5760e+03,\n",
       "       1.2830e+03, 2.3090e+03, 1.2820e+03, 2.0530e+03, 3.0960e+03,\n",
       "       6.0990e+03, 1.8060e+03, 2.8260e+03, 1.8150e+03, 2.8430e+03,\n",
       "       7.7200e+02, 1.2860e+03, 1.5500e+03, 1.2910e+03, 1.0320e+03,\n",
       "       1.2910e+03, 2.0590e+03, 1.0320e+03, 2.0610e+03, 5.1500e+02,\n",
       "       1.2870e+03, 3.1090e+03, 5.1400e+02, 1.5450e+03, 2.8510e+03,\n",
       "       7.7400e+02, 1.2940e+03, 3.1120e+03, 1.2830e+03, 5.1500e+02,\n",
       "       2.3350e+03, 3.6050e+03, 7.7300e+02, 7.7300e+02, 5.1600e+02,\n",
       "       7.7400e+02, 7.7300e+02, 5.1500e+02, 5.1600e+02, 5.1500e+02,\n",
       "       1.8180e+03, 1.5490e+03, 2.8430e+03, 2.5600e+02, 2.5500e+02,\n",
       "       2.5500e+02, 2.5500e+02, 2.5500e+02, 2.5500e+02, 2.5500e+02,\n",
       "       2.5500e+02, 2.5500e+02, 2.5500e+02, 2.5600e+02, 2.5600e+02,\n",
       "       2.5600e+02, 2.5500e+02, 2.5500e+02, 2.5500e+02, 2.5500e+02,\n",
       "       2.5500e+02, 2.5500e+02, 2.5500e+02, 2.5500e+02, 2.5500e+02,\n",
       "       2.5560e+03, 1.0320e+03, 1.2930e+03, 1.5520e+03, 7.7700e+02,\n",
       "       1.0350e+03, 1.0300e+03, 1.0410e+03, 3.1040e+03, 2.0470e+03,\n",
       "       2.3030e+03, 1.2930e+03, 1.0340e+03, 3.8500e+03, 1.2950e+03,\n",
       "       1.8130e+03, 1.8130e+03, 1.0410e+03, 2.8140e+03, 5.1800e+02,\n",
       "       1.3050e+03, 2.0560e+03, 1.5570e+03, 1.7970e+03, 2.3130e+03,\n",
       "       1.5620e+03, 1.8190e+03, 5.2000e+02, 1.8190e+03, 2.3080e+03,\n",
       "       1.5430e+03, 5.2000e+02, 1.8350e+03, 1.5440e+03, 7.7800e+02,\n",
       "       2.5900e+02, 2.5900e+02, 2.5900e+02, 2.5900e+02, 2.5900e+02,\n",
       "       2.6000e+02, 2.5900e+02, 2.5900e+02, 2.5900e+02, 2.5900e+02,\n",
       "       2.5900e+02, 2.6000e+02, 2.6000e+02, 2.5900e+02, 2.6000e+02,\n",
       "       2.6000e+02, 2.5900e+02, 7.8100e+02, 2.5900e+02, 2.5900e+02,\n",
       "       2.5900e+02, 2.6000e+02, 2.5900e+02, 2.0570e+03, 1.7970e+03,\n",
       "       2.5810e+03, 7.7900e+02, 5.2000e+02, 1.0490e+03, 2.3250e+03,\n",
       "       2.0690e+03, 5.6310e+03, 7.8300e+02, 4.3580e+03, 5.2200e+02,\n",
       "       1.3050e+03, 3.0810e+03, 3.1050e+03, 5.2400e+02, 5.2400e+02,\n",
       "       5.2400e+02, 1.5830e+03, 2.0610e+03, 7.8100e+02, 3.3340e+03,\n",
       "       7.9000e+02, 2.0520e+03, 1.8050e+03, 7.8500e+02, 3.0820e+03,\n",
       "       1.0490e+03, 3.5990e+03, 5.2700e+02, 7.9400e+02, 1.3170e+03,\n",
       "       1.0520e+03, 5.2800e+02, 2.0650e+03, 1.8430e+03, 1.0380e+03,\n",
       "       2.8170e+03, 1.8010e+03, 5.2500e+02, 1.3170e+03, 1.3170e+03,\n",
       "       1.0540e+03, 3.3340e+03, 7.9100e+02, 4.6100e+03, 2.0670e+03,\n",
       "       4.1000e+03, 1.0410e+03, 1.2950e+03, 5.2600e+02, 1.2990e+03,\n",
       "       5.2700e+02, 5.2900e+02, 5.2800e+02, 1.2980e+03, 7.8700e+02,\n",
       "       1.0420e+03, 3.0780e+03, 1.0430e+03, 1.3010e+03, 1.3010e+03,\n",
       "       1.0760e+03, 1.2970e+03, 5.3000e+02, 5.3000e+02, 5.3000e+02,\n",
       "       5.3000e+02, 5.3000e+02, 5.3000e+02, 8.0700e+02, 1.5540e+03,\n",
       "       1.3040e+03, 1.3330e+03, 7.8700e+02, 1.0430e+03, 7.8800e+02,\n",
       "       1.3040e+03, 5.2900e+02, 2.3310e+03, 2.6900e+02, 2.6900e+02,\n",
       "       5.3500e+02, 5.3000e+02, 1.0440e+03, 2.3430e+03, 1.3070e+03,\n",
       "       4.1130e+03, 1.3160e+03, 1.0490e+03, 2.0730e+03, 1.8110e+03,\n",
       "       5.3200e+02, 5.4500e+02, 4.1280e+03, 1.0470e+03, 1.8120e+03,\n",
       "       1.8180e+03, 1.5570e+03, 1.5580e+03, 1.8310e+03, 5.3400e+02,\n",
       "       7.9100e+02, 7.9200e+02, 1.8320e+03, 2.7400e+02, 7.9600e+02,\n",
       "       1.0480e+03, 9.6590e+03, 1.5750e+03, 2.7300e+02, 2.7300e+02,\n",
       "       2.7300e+02, 2.7300e+02, 2.7300e+02, 2.7300e+02, 2.7300e+02,\n",
       "       2.7300e+02, 5.3400e+02, 1.3160e+03, 5.3400e+02, 1.0480e+03,\n",
       "       5.4700e+02, 1.5620e+03, 7.9300e+02, 5.3700e+02, 4.1010e+03,\n",
       "       1.5710e+03, 5.3700e+02, 8.2800e+02, 3.3410e+03, 1.5880e+03,\n",
       "       5.3800e+02, 3.8450e+03, 1.0560e+03, 5.3900e+02, 1.3120e+03,\n",
       "       5.5800e+02, 7.9800e+02, 5.5800e+02, 1.0780e+03, 1.0580e+03,\n",
       "       8.0500e+02, 1.3190e+03, 2.7900e+02, 2.7900e+02, 2.7900e+02,\n",
       "       2.7900e+02, 2.7900e+02, 2.7900e+02, 2.7900e+02, 2.7900e+02,\n",
       "       1.8430e+03, 2.7900e+02, 2.7900e+02, 8.1400e+02, 1.8440e+03,\n",
       "       1.0730e+03, 1.0740e+03, 5.6500e+02, 1.0760e+03, 1.0600e+03,\n",
       "       2.6150e+03, 5.4500e+02, 8.0000e+02, 2.1000e+03, 8.0100e+02,\n",
       "       5.4300e+02, 1.3110e+03, 2.0770e+03, 8.0300e+02, 1.3330e+03,\n",
       "       8.0800e+02, 2.8300e+02, 2.8300e+02, 2.8300e+02, 2.8300e+02,\n",
       "       2.8300e+02, 2.8300e+02, 2.8300e+02, 1.0650e+03, 2.8300e+02,\n",
       "       2.8300e+02, 2.8300e+02, 2.8300e+02, 2.8300e+02, 5.4400e+02,\n",
       "       5.4600e+02, 5.4500e+02, 5.4600e+02, 5.4600e+02, 1.0750e+03,\n",
       "       1.3310e+03, 5.4800e+02, 1.3430e+03, 8.0400e+02, 8.0900e+02,\n",
       "       5.6300e+02, 5.6300e+02, 1.8610e+03, 1.0820e+03, 5.5100e+02,\n",
       "       1.8660e+03, 5.4800e+02, 8.1900e+02, 3.6300e+03, 2.1210e+03,\n",
       "       8.1500e+02, 8.4000e+02, 5.6500e+02, 8.4000e+02, 3.1210e+03,\n",
       "       8.0900e+02, 5.5100e+02, 5.5100e+02, 2.0950e+03, 8.1900e+02,\n",
       "       8.0900e+02, 8.1200e+02, 5.5300e+02, 2.9300e+02, 2.9300e+02,\n",
       "       2.9300e+02, 2.9300e+02, 2.9300e+02, 2.9300e+02, 2.9300e+02,\n",
       "       2.9300e+02, 2.9300e+02, 2.9400e+02, 2.9300e+02, 2.9300e+02,\n",
       "       1.3360e+03, 1.0720e+03, 1.0770e+03, 2.9600e+02, 5.8300e+02,\n",
       "       1.3360e+03, 8.1600e+02, 8.1700e+02, 8.5000e+02, 5.5800e+02,\n",
       "       1.3310e+03, 1.5990e+03, 2.9700e+02, 2.9700e+02, 2.9700e+02,\n",
       "       2.9700e+02, 2.9700e+02, 2.9700e+02, 2.9700e+02, 2.9700e+02,\n",
       "       1.0800e+03, 1.6130e+03, 8.2400e+02, 5.6400e+02, 8.3800e+02,\n",
       "       5.8800e+02, 8.4400e+02, 1.1140e+03, 8.6500e+02, 6.1200e+02,\n",
       "       8.5200e+02, 3.2700e+02, 3.2700e+02, 3.3100e+02, 3.9900e+02,\n",
       "       1.0882e+04, 5.5570e+03, 8.6140e+03, 1.1144e+04, 6.6030e+03,\n",
       "       1.0392e+04, 5.3170e+03, 2.7860e+03, 5.3260e+03, 3.2980e+03,\n",
       "       1.0130e+03, 2.7890e+03, 2.7910e+03, 3.5520e+03, 4.0590e+03,\n",
       "       1.5240e+03, 1.2710e+03, 8.3860e+03, 2.5470e+03, 2.5430e+03,\n",
       "       2.8040e+03, 2.8050e+03, 3.3070e+03, 2.5550e+03, 2.2910e+03,\n",
       "       1.0170e+03, 1.2740e+03, 3.8310e+03, 6.1080e+03, 1.5310e+03,\n",
       "       1.2760e+03, 1.0210e+03, 2.0400e+03, 1.0200e+03, 1.5340e+03,\n",
       "       1.2760e+03, 1.7920e+03, 1.5350e+03, 2.0490e+03, 5.0900e+02,\n",
       "       1.5370e+03, 2.5640e+03, 4.0910e+03, 5.1100e+02, 3.6100e+03,\n",
       "       5.1100e+02, 3.5690e+03, 7.6600e+02, 3.0850e+03, 1.7940e+03,\n",
       "       1.0240e+03, 1.5440e+03, 1.5390e+03, 7.6900e+02, 1.0290e+03,\n",
       "       1.0260e+03, 1.5390e+03, 1.5400e+03, 1.2830e+03, 2.0610e+03,\n",
       "       2.8300e+03, 2.3150e+03, 4.1190e+03, 2.5640e+03, 3.6040e+03,\n",
       "       2.3360e+03, 1.5450e+03, 2.3180e+03, 1.5460e+03, 1.5530e+03,\n",
       "       1.5550e+03, 5.1500e+02, 5.1600e+02, 5.1500e+02, 5.1600e+02,\n",
       "       1.5490e+03, 1.0370e+03, 2.3060e+03, 1.2840e+03, 7.7600e+02,\n",
       "       2.5500e+02, 2.5600e+02, 2.5500e+02, 2.5500e+02, 2.5500e+02,\n",
       "       2.5500e+02, 2.5600e+02, 2.5500e+02, 2.5500e+02, 2.5500e+02,\n",
       "       2.5500e+02, 2.8100e+03, 7.7700e+02, 2.8200e+03, 2.8410e+03,\n",
       "       1.2960e+03, 2.5800e+02, 1.5530e+03, 7.7900e+02, 2.8120e+03,\n",
       "       5.1800e+02, 1.5560e+03, 7.7600e+02, 2.0480e+03, 5.1900e+02,\n",
       "       2.8600e+03, 1.8360e+03, 1.8360e+03, 2.5900e+02, 2.5900e+02,\n",
       "       2.5900e+02, 2.5900e+02, 2.6000e+02, 2.5900e+02, 2.5900e+02,\n",
       "       2.5900e+02, 2.5900e+02, 2.5900e+02, 2.6000e+02, 2.5900e+02,\n",
       "       1.8230e+03, 2.5900e+02, 1.0430e+03, 1.5450e+03, 7.8100e+02,\n",
       "       1.2970e+03, 2.3220e+03, 5.2400e+02, 1.3200e+03, 2.8570e+03,\n",
       "       2.3310e+03, 5.2600e+02, 7.8500e+02, 3.8480e+03, 7.8200e+02,\n",
       "       4.1160e+03, 1.3170e+03, 1.8060e+03, 1.0420e+03, 2.3560e+03,\n",
       "       2.0720e+03, 1.3140e+03, 1.5580e+03, 1.3030e+03, 5.3100e+02,\n",
       "       5.3000e+02, 5.3000e+02, 5.3700e+02, 7.8700e+02, 2.0680e+03,\n",
       "       2.6900e+02, 1.2980e+03, 1.0440e+03, 5.3600e+02, 7.8800e+02,\n",
       "       4.1090e+03, 5.3700e+02, 2.0720e+03, 7.9000e+02, 1.8160e+03,\n",
       "       1.3030e+03, 5.3400e+02, 7.9000e+02, 2.0910e+03, 2.7300e+02,\n",
       "       2.7300e+02, 2.7300e+02, 2.7400e+02, 2.7300e+02, 8.3100e+02,\n",
       "       8.3200e+02, 1.0480e+03, 3.8680e+03, 3.6130e+03, 2.5880e+03,\n",
       "       7.9200e+02, 7.9300e+02, 4.8540e+03, 1.8430e+03, 7.9500e+02,\n",
       "       3.6040e+03, 5.5200e+02, 5.3800e+02, 8.0100e+02, 1.0530e+03,\n",
       "       1.8160e+03, 1.8460e+03, 1.5720e+03, 8.0000e+02, 2.7900e+02,\n",
       "       2.7900e+02, 2.7900e+02, 2.7900e+02, 2.7900e+02, 2.7900e+02,\n",
       "       1.8330e+03, 8.0200e+02, 8.0200e+02, 1.8370e+03, 5.4400e+02,\n",
       "       8.0400e+02, 2.8300e+02, 2.8300e+02, 2.8300e+02, 2.8300e+02,\n",
       "       2.8300e+02, 5.4500e+02, 1.0890e+03, 5.5200e+02, 1.5750e+03,\n",
       "       5.4800e+02, 1.5740e+03, 5.5200e+02, 1.6030e+03, 1.0780e+03,\n",
       "       1.3420e+03, 5.4900e+02, 8.0900e+02, 8.0900e+02, 2.1000e+03,\n",
       "       8.1200e+02, 8.1100e+02, 8.1400e+02, 5.5300e+02, 2.9300e+02,\n",
       "       2.9300e+02, 1.5810e+03, 2.9300e+02, 2.9300e+02, 8.1500e+02,\n",
       "       5.5600e+02, 8.4600e+02, 2.9800e+02, 2.9700e+02, 2.9700e+02,\n",
       "       2.9700e+02, 2.9700e+02, 2.9700e+02, 2.9700e+02, 1.0790e+03,\n",
       "       2.9700e+02, 1.8680e+03, 8.5500e+02, 5.6300e+02, 5.7500e+02,\n",
       "       8.3800e+02, 3.2900e+02, 3.9500e+02, 6.0000e+00, 0.0000e+00])"
      ]
     },
     "execution_count": 58,
     "metadata": {},
     "output_type": "execute_result"
    }
   ],
   "source": [
    "data.sum(axis=1)\n"
   ]
  },
  {
   "cell_type": "markdown",
   "id": "b3becb78",
   "metadata": {},
   "source": [
    "* Return the maximum values of each column"
   ]
  },
  {
   "cell_type": "code",
   "execution_count": 59,
   "id": "256c4b64",
   "metadata": {},
   "outputs": [
    {
     "data": {
      "text/plain": [
       "array([7.40e+01, 5.00e+01, 1.25e+04, 9.80e+01, 1.00e+00])"
      ]
     },
     "execution_count": 59,
     "metadata": {},
     "output_type": "execute_result"
    }
   ],
   "source": [
    "data.max(axis=0)"
   ]
  },
  {
   "cell_type": "markdown",
   "id": "4e9c4dea",
   "metadata": {},
   "source": [
    "* Return the maximum values of each row"
   ]
  },
  {
   "cell_type": "code",
   "execution_count": 60,
   "id": "a7d3eee3",
   "metadata": {},
   "outputs": [
    {
     "data": {
      "text/plain": [
       "array([1.250e+04, 3.250e+03, 4.000e+03, 5.000e+03, 6.000e+03, 1.000e+03,\n",
       "       1.750e+03, 3.000e+03, 2.250e+03, 1.150e+04, 5.750e+03, 7.500e+02,\n",
       "       2.500e+03, 3.250e+03, 1.500e+03, 1.250e+03, 3.500e+03, 3.750e+03,\n",
       "       1.500e+03, 7.500e+02, 7.500e+02, 2.750e+03, 1.500e+03, 1.500e+03,\n",
       "       2.250e+03, 3.500e+03, 1.500e+03, 3.000e+03, 1.250e+03, 2.000e+03,\n",
       "       3.500e+03, 2.500e+03, 2.500e+03, 2.250e+03, 4.000e+03, 2.000e+03,\n",
       "       3.000e+03, 1.500e+03, 3.500e+03, 1.750e+03, 3.250e+03, 1.250e+03,\n",
       "       1.250e+03, 1.250e+03, 5.000e+03, 2.250e+03, 2.250e+03, 5.000e+02,\n",
       "       5.000e+02, 5.000e+02, 2.750e+03, 2.750e+03, 1.500e+03, 3.000e+03,\n",
       "       1.250e+03, 4.750e+03, 2.000e+03, 1.750e+03, 4.000e+03, 1.500e+03,\n",
       "       1.750e+03, 2.000e+03, 2.500e+03, 1.250e+03, 7.500e+02, 4.000e+03,\n",
       "       1.000e+03, 5.000e+02, 1.750e+03, 2.250e+03, 1.000e+03, 1.000e+03,\n",
       "       4.250e+03, 5.000e+02, 5.000e+02, 5.000e+02, 1.000e+03, 5.000e+02,\n",
       "       5.000e+02, 5.000e+02, 1.500e+03, 1.000e+03, 1.000e+03, 1.000e+03,\n",
       "       1.500e+03, 1.500e+03, 5.000e+02, 5.000e+02, 5.000e+02, 1.750e+03,\n",
       "       5.000e+02, 5.000e+02, 5.000e+02, 5.000e+02, 2.750e+03, 1.750e+03,\n",
       "       4.250e+03, 2.250e+03, 1.000e+03, 1.750e+03, 2.000e+03, 3.250e+03,\n",
       "       2.250e+03, 1.250e+03, 1.250e+03, 4.250e+03, 2.000e+03, 1.250e+03,\n",
       "       7.500e+02, 2.500e+03, 1.250e+03, 2.250e+03, 1.250e+03, 2.000e+03,\n",
       "       3.000e+03, 6.000e+03, 1.750e+03, 2.750e+03, 1.750e+03, 2.750e+03,\n",
       "       7.500e+02, 1.250e+03, 1.500e+03, 1.250e+03, 1.000e+03, 1.250e+03,\n",
       "       2.000e+03, 1.000e+03, 2.000e+03, 5.000e+02, 1.250e+03, 3.000e+03,\n",
       "       5.000e+02, 1.500e+03, 2.750e+03, 7.500e+02, 1.250e+03, 3.000e+03,\n",
       "       1.250e+03, 5.000e+02, 2.250e+03, 3.500e+03, 7.500e+02, 7.500e+02,\n",
       "       5.000e+02, 7.500e+02, 7.500e+02, 5.000e+02, 5.000e+02, 5.000e+02,\n",
       "       1.750e+03, 1.500e+03, 2.750e+03, 2.500e+02, 2.500e+02, 2.500e+02,\n",
       "       2.500e+02, 2.500e+02, 2.500e+02, 2.500e+02, 2.500e+02, 2.500e+02,\n",
       "       2.500e+02, 2.500e+02, 2.500e+02, 2.500e+02, 2.500e+02, 2.500e+02,\n",
       "       2.500e+02, 2.500e+02, 2.500e+02, 2.500e+02, 2.500e+02, 2.500e+02,\n",
       "       2.500e+02, 2.500e+03, 1.000e+03, 1.250e+03, 1.500e+03, 7.500e+02,\n",
       "       1.000e+03, 1.000e+03, 1.000e+03, 3.000e+03, 2.000e+03, 2.250e+03,\n",
       "       1.250e+03, 1.000e+03, 3.750e+03, 1.250e+03, 1.750e+03, 1.750e+03,\n",
       "       1.000e+03, 2.750e+03, 5.000e+02, 1.250e+03, 2.000e+03, 1.500e+03,\n",
       "       1.750e+03, 2.250e+03, 1.500e+03, 1.750e+03, 5.000e+02, 1.750e+03,\n",
       "       2.250e+03, 1.500e+03, 5.000e+02, 1.750e+03, 1.500e+03, 7.500e+02,\n",
       "       2.500e+02, 2.500e+02, 2.500e+02, 2.500e+02, 2.500e+02, 2.500e+02,\n",
       "       2.500e+02, 2.500e+02, 2.500e+02, 2.500e+02, 2.500e+02, 2.500e+02,\n",
       "       2.500e+02, 2.500e+02, 2.500e+02, 2.500e+02, 2.500e+02, 7.500e+02,\n",
       "       2.500e+02, 2.500e+02, 2.500e+02, 2.500e+02, 2.500e+02, 2.000e+03,\n",
       "       1.750e+03, 2.500e+03, 7.500e+02, 5.000e+02, 1.000e+03, 2.250e+03,\n",
       "       2.000e+03, 5.500e+03, 7.500e+02, 4.250e+03, 5.000e+02, 1.250e+03,\n",
       "       3.000e+03, 3.000e+03, 5.000e+02, 5.000e+02, 5.000e+02, 1.500e+03,\n",
       "       2.000e+03, 7.500e+02, 3.250e+03, 7.500e+02, 2.000e+03, 1.750e+03,\n",
       "       7.500e+02, 3.000e+03, 1.000e+03, 3.500e+03, 5.000e+02, 7.500e+02,\n",
       "       1.250e+03, 1.000e+03, 5.000e+02, 2.000e+03, 1.750e+03, 1.000e+03,\n",
       "       2.750e+03, 1.750e+03, 5.000e+02, 1.250e+03, 1.250e+03, 1.000e+03,\n",
       "       3.250e+03, 7.500e+02, 4.500e+03, 2.000e+03, 4.000e+03, 1.000e+03,\n",
       "       1.250e+03, 5.000e+02, 1.250e+03, 5.000e+02, 5.000e+02, 5.000e+02,\n",
       "       1.250e+03, 7.500e+02, 1.000e+03, 3.000e+03, 1.000e+03, 1.250e+03,\n",
       "       1.250e+03, 1.000e+03, 1.250e+03, 5.000e+02, 5.000e+02, 5.000e+02,\n",
       "       5.000e+02, 5.000e+02, 5.000e+02, 7.500e+02, 1.500e+03, 1.250e+03,\n",
       "       1.250e+03, 7.500e+02, 1.000e+03, 7.500e+02, 1.250e+03, 5.000e+02,\n",
       "       2.250e+03, 2.500e+02, 2.500e+02, 5.000e+02, 5.000e+02, 1.000e+03,\n",
       "       2.250e+03, 1.250e+03, 4.000e+03, 1.250e+03, 1.000e+03, 2.000e+03,\n",
       "       1.750e+03, 5.000e+02, 5.000e+02, 4.000e+03, 1.000e+03, 1.750e+03,\n",
       "       1.750e+03, 1.500e+03, 1.500e+03, 1.750e+03, 5.000e+02, 7.500e+02,\n",
       "       7.500e+02, 1.750e+03, 2.500e+02, 7.500e+02, 1.000e+03, 9.500e+03,\n",
       "       1.500e+03, 2.500e+02, 2.500e+02, 2.500e+02, 2.500e+02, 2.500e+02,\n",
       "       2.500e+02, 2.500e+02, 2.500e+02, 5.000e+02, 1.250e+03, 5.000e+02,\n",
       "       1.000e+03, 5.000e+02, 1.500e+03, 7.500e+02, 5.000e+02, 4.000e+03,\n",
       "       1.500e+03, 5.000e+02, 7.500e+02, 3.250e+03, 1.500e+03, 5.000e+02,\n",
       "       3.750e+03, 1.000e+03, 5.000e+02, 1.250e+03, 5.000e+02, 7.500e+02,\n",
       "       5.000e+02, 1.000e+03, 1.000e+03, 7.500e+02, 1.250e+03, 2.500e+02,\n",
       "       2.500e+02, 2.500e+02, 2.500e+02, 2.500e+02, 2.500e+02, 2.500e+02,\n",
       "       2.500e+02, 1.750e+03, 2.500e+02, 2.500e+02, 7.500e+02, 1.750e+03,\n",
       "       1.000e+03, 1.000e+03, 5.000e+02, 1.000e+03, 1.000e+03, 2.500e+03,\n",
       "       5.000e+02, 7.500e+02, 2.000e+03, 7.500e+02, 5.000e+02, 1.250e+03,\n",
       "       2.000e+03, 7.500e+02, 1.250e+03, 7.500e+02, 2.500e+02, 2.500e+02,\n",
       "       2.500e+02, 2.500e+02, 2.500e+02, 2.500e+02, 2.500e+02, 1.000e+03,\n",
       "       2.500e+02, 2.500e+02, 2.500e+02, 2.500e+02, 2.500e+02, 5.000e+02,\n",
       "       5.000e+02, 5.000e+02, 5.000e+02, 5.000e+02, 1.000e+03, 1.250e+03,\n",
       "       5.000e+02, 1.250e+03, 7.500e+02, 7.500e+02, 5.000e+02, 5.000e+02,\n",
       "       1.750e+03, 1.000e+03, 5.000e+02, 1.750e+03, 5.000e+02, 7.500e+02,\n",
       "       3.500e+03, 2.000e+03, 7.500e+02, 7.500e+02, 5.000e+02, 7.500e+02,\n",
       "       3.000e+03, 7.500e+02, 5.000e+02, 5.000e+02, 2.000e+03, 7.500e+02,\n",
       "       7.500e+02, 7.500e+02, 5.000e+02, 2.500e+02, 2.500e+02, 2.500e+02,\n",
       "       2.500e+02, 2.500e+02, 2.500e+02, 2.500e+02, 2.500e+02, 2.500e+02,\n",
       "       2.500e+02, 2.500e+02, 2.500e+02, 1.250e+03, 1.000e+03, 1.000e+03,\n",
       "       2.500e+02, 5.000e+02, 1.250e+03, 7.500e+02, 7.500e+02, 7.500e+02,\n",
       "       5.000e+02, 1.250e+03, 1.500e+03, 2.500e+02, 2.500e+02, 2.500e+02,\n",
       "       2.500e+02, 2.500e+02, 2.500e+02, 2.500e+02, 2.500e+02, 1.000e+03,\n",
       "       1.500e+03, 7.500e+02, 5.000e+02, 7.500e+02, 5.000e+02, 7.500e+02,\n",
       "       1.000e+03, 7.500e+02, 5.000e+02, 7.500e+02, 2.500e+02, 2.500e+02,\n",
       "       2.500e+02, 2.500e+02, 1.075e+04, 5.500e+03, 8.500e+03, 1.100e+04,\n",
       "       6.500e+03, 1.025e+04, 5.250e+03, 2.750e+03, 5.250e+03, 3.250e+03,\n",
       "       1.000e+03, 2.750e+03, 2.750e+03, 3.500e+03, 4.000e+03, 1.500e+03,\n",
       "       1.250e+03, 8.250e+03, 2.500e+03, 2.500e+03, 2.750e+03, 2.750e+03,\n",
       "       3.250e+03, 2.500e+03, 2.250e+03, 1.000e+03, 1.250e+03, 3.750e+03,\n",
       "       6.000e+03, 1.500e+03, 1.250e+03, 1.000e+03, 2.000e+03, 1.000e+03,\n",
       "       1.500e+03, 1.250e+03, 1.750e+03, 1.500e+03, 2.000e+03, 5.000e+02,\n",
       "       1.500e+03, 2.500e+03, 4.000e+03, 5.000e+02, 3.500e+03, 5.000e+02,\n",
       "       3.500e+03, 7.500e+02, 3.000e+03, 1.750e+03, 1.000e+03, 1.500e+03,\n",
       "       1.500e+03, 7.500e+02, 1.000e+03, 1.000e+03, 1.500e+03, 1.500e+03,\n",
       "       1.250e+03, 2.000e+03, 2.750e+03, 2.250e+03, 4.000e+03, 2.500e+03,\n",
       "       3.500e+03, 2.250e+03, 1.500e+03, 2.250e+03, 1.500e+03, 1.500e+03,\n",
       "       1.500e+03, 5.000e+02, 5.000e+02, 5.000e+02, 5.000e+02, 1.500e+03,\n",
       "       1.000e+03, 2.250e+03, 1.250e+03, 7.500e+02, 2.500e+02, 2.500e+02,\n",
       "       2.500e+02, 2.500e+02, 2.500e+02, 2.500e+02, 2.500e+02, 2.500e+02,\n",
       "       2.500e+02, 2.500e+02, 2.500e+02, 2.750e+03, 7.500e+02, 2.750e+03,\n",
       "       2.750e+03, 1.250e+03, 2.500e+02, 1.500e+03, 7.500e+02, 2.750e+03,\n",
       "       5.000e+02, 1.500e+03, 7.500e+02, 2.000e+03, 5.000e+02, 2.750e+03,\n",
       "       1.750e+03, 1.750e+03, 2.500e+02, 2.500e+02, 2.500e+02, 2.500e+02,\n",
       "       2.500e+02, 2.500e+02, 2.500e+02, 2.500e+02, 2.500e+02, 2.500e+02,\n",
       "       2.500e+02, 2.500e+02, 1.750e+03, 2.500e+02, 1.000e+03, 1.500e+03,\n",
       "       7.500e+02, 1.250e+03, 2.250e+03, 5.000e+02, 1.250e+03, 2.750e+03,\n",
       "       2.250e+03, 5.000e+02, 7.500e+02, 3.750e+03, 7.500e+02, 4.000e+03,\n",
       "       1.250e+03, 1.750e+03, 1.000e+03, 2.250e+03, 2.000e+03, 1.250e+03,\n",
       "       1.500e+03, 1.250e+03, 5.000e+02, 5.000e+02, 5.000e+02, 5.000e+02,\n",
       "       7.500e+02, 2.000e+03, 2.500e+02, 1.250e+03, 1.000e+03, 5.000e+02,\n",
       "       7.500e+02, 4.000e+03, 5.000e+02, 2.000e+03, 7.500e+02, 1.750e+03,\n",
       "       1.250e+03, 5.000e+02, 7.500e+02, 2.000e+03, 2.500e+02, 2.500e+02,\n",
       "       2.500e+02, 2.500e+02, 2.500e+02, 7.500e+02, 7.500e+02, 1.000e+03,\n",
       "       3.750e+03, 3.500e+03, 2.500e+03, 7.500e+02, 7.500e+02, 4.750e+03,\n",
       "       1.750e+03, 7.500e+02, 3.500e+03, 5.000e+02, 5.000e+02, 7.500e+02,\n",
       "       1.000e+03, 1.750e+03, 1.750e+03, 1.500e+03, 7.500e+02, 2.500e+02,\n",
       "       2.500e+02, 2.500e+02, 2.500e+02, 2.500e+02, 2.500e+02, 1.750e+03,\n",
       "       7.500e+02, 7.500e+02, 1.750e+03, 5.000e+02, 7.500e+02, 2.500e+02,\n",
       "       2.500e+02, 2.500e+02, 2.500e+02, 2.500e+02, 5.000e+02, 1.000e+03,\n",
       "       5.000e+02, 1.500e+03, 5.000e+02, 1.500e+03, 5.000e+02, 1.500e+03,\n",
       "       1.000e+03, 1.250e+03, 5.000e+02, 7.500e+02, 7.500e+02, 2.000e+03,\n",
       "       7.500e+02, 7.500e+02, 7.500e+02, 5.000e+02, 2.500e+02, 2.500e+02,\n",
       "       1.500e+03, 2.500e+02, 2.500e+02, 7.500e+02, 5.000e+02, 7.500e+02,\n",
       "       2.500e+02, 2.500e+02, 2.500e+02, 2.500e+02, 2.500e+02, 2.500e+02,\n",
       "       2.500e+02, 1.000e+03, 2.500e+02, 1.750e+03, 7.500e+02, 5.000e+02,\n",
       "       5.000e+02, 7.500e+02, 2.500e+02, 2.500e+02, 3.000e+00, 0.000e+00])"
      ]
     },
     "execution_count": 60,
     "metadata": {},
     "output_type": "execute_result"
    }
   ],
   "source": [
    "data.max(axis=1)"
   ]
  },
  {
   "cell_type": "markdown",
   "id": "369fc40e",
   "metadata": {},
   "source": [
    "* Return the minimum values of each column"
   ]
  },
  {
   "cell_type": "code",
   "execution_count": 61,
   "id": "bb24f5cd",
   "metadata": {},
   "outputs": [
    {
     "data": {
      "text/plain": [
       "array([0., 0., 0., 0., 0.])"
      ]
     },
     "execution_count": 61,
     "metadata": {},
     "output_type": "execute_result"
    }
   ],
   "source": [
    "data.min(axis=0)"
   ]
  },
  {
   "cell_type": "markdown",
   "id": "19e1b704",
   "metadata": {},
   "source": [
    "* Return the minimum values of each row"
   ]
  },
  {
   "cell_type": "code",
   "execution_count": 63,
   "id": "c2e0b02b",
   "metadata": {},
   "outputs": [
    {
     "data": {
      "text/plain": [
       "array([1., 0., 1., 1., 0., 0., 1., 0., 1., 1., 0., 0., 1., 0., 1., 1., 1.,\n",
       "       1., 1., 1., 1., 0., 1., 1., 0., 0., 0., 1., 1., 0., 0., 1., 1., 1.,\n",
       "       0., 1., 1., 1., 1., 1., 1., 0., 1., 0., 1., 1., 0., 0., 0., 0., 0.,\n",
       "       1., 0., 0., 1., 1., 1., 1., 0., 0., 0., 1., 0., 1., 1., 0., 1., 0.,\n",
       "       0., 0., 0., 0., 1., 0., 1., 1., 1., 0., 0., 0., 1., 0., 0., 0., 1.,\n",
       "       0., 0., 0., 0., 1., 1., 0., 0., 0., 0., 0., 0., 1., 1., 1., 1., 1.,\n",
       "       0., 0., 0., 0., 0., 0., 0., 0., 1., 0., 0., 1., 0., 0., 1., 0., 0.,\n",
       "       1., 1., 1., 1., 1., 0., 0., 1., 0., 1., 1., 0., 0., 0., 0., 0., 0.,\n",
       "       0., 0., 0., 0., 0., 0., 0., 0., 1., 1., 0., 0., 1., 0., 1., 0., 0.,\n",
       "       1., 0., 0., 0., 0., 0., 0., 0., 0., 0., 1., 1., 1., 0., 0., 0., 0.,\n",
       "       0., 0., 0., 0., 0., 0., 1., 1., 1., 0., 1., 0., 0., 0., 0., 0., 0.,\n",
       "       0., 0., 1., 0., 0., 0., 0., 0., 1., 1., 0., 0., 0., 0., 0., 1., 0.,\n",
       "       0., 0., 0., 0., 0., 0., 0., 0., 0., 0., 0., 1., 0., 0., 0., 0., 0.,\n",
       "       1., 1., 0., 1., 1., 0., 0., 0., 0., 0., 1., 0., 0., 0., 0., 0., 0.,\n",
       "       0., 0., 1., 0., 1., 1., 0., 0., 0., 0., 0., 0., 0., 0., 1., 1., 0.,\n",
       "       0., 0., 0., 0., 0., 0., 1., 0., 1., 0., 1., 0., 0., 0., 0., 0., 0.,\n",
       "       0., 0., 0., 0., 0., 0., 0., 0., 0., 1., 0., 0., 0., 0., 0., 1., 1.,\n",
       "       1., 1., 0., 0., 0., 0., 0., 0., 0., 0., 0., 0., 0., 0., 0., 0., 1.,\n",
       "       0., 0., 0., 0., 0., 0., 0., 0., 0., 0., 0., 0., 1., 0., 0., 1., 0.,\n",
       "       1., 0., 0., 0., 0., 1., 0., 0., 0., 1., 1., 0., 1., 0., 0., 1., 0.,\n",
       "       0., 0., 0., 0., 0., 0., 0., 0., 0., 0., 0., 0., 0., 0., 0., 0., 0.,\n",
       "       0., 0., 0., 0., 0., 0., 0., 0., 1., 0., 0., 0., 1., 1., 0., 0., 0.,\n",
       "       0., 1., 0., 0., 0., 0., 0., 0., 0., 0., 0., 0., 0., 0., 0., 0., 0.,\n",
       "       0., 0., 0., 0., 0., 1., 0., 0., 1., 0., 0., 0., 0., 0., 0., 0., 0.,\n",
       "       0., 0., 0., 0., 0., 0., 0., 0., 0., 0., 0., 0., 0., 0., 0., 0., 0.,\n",
       "       0., 0., 0., 0., 0., 0., 0., 1., 0., 0., 0., 0., 0., 0., 0., 0., 0.,\n",
       "       0., 0., 0., 0., 0., 0., 0., 0., 0., 0., 0., 0., 0., 0., 0., 0., 0.,\n",
       "       0., 0., 0., 1., 0., 0., 0., 0., 0., 1., 0., 0., 0., 0., 0., 0., 1.,\n",
       "       0., 0., 0., 0., 0., 0., 0., 0., 0., 0., 0., 0., 0., 0., 0., 0., 0.,\n",
       "       0., 0., 0., 0., 0., 0., 0., 1., 1., 1., 0., 0., 1., 1., 0., 1., 1.,\n",
       "       1., 0., 0., 0., 1., 0., 1., 1., 1., 1., 1., 1., 1., 1., 0., 0., 1.,\n",
       "       0., 0., 1., 1., 1., 0., 0., 0., 1., 1., 1., 1., 1., 1., 0., 1., 1.,\n",
       "       0., 1., 0., 0., 1., 1., 0., 1., 1., 0., 0., 0., 0., 0., 0., 0., 1.,\n",
       "       0., 1., 0., 0., 0., 0., 0., 1., 0., 0., 0., 1., 0., 1., 1., 1., 0.,\n",
       "       0., 0., 0., 1., 0., 0., 0., 0., 1., 0., 0., 0., 0., 0., 0., 1., 0.,\n",
       "       0., 1., 0., 0., 0., 0., 0., 0., 0., 0., 0., 0., 0., 0., 0., 0., 0.,\n",
       "       1., 0., 0., 0., 0., 0., 1., 0., 0., 0., 1., 0., 1., 0., 0., 0., 0.,\n",
       "       0., 0., 0., 0., 0., 0., 0., 0., 0., 0., 1., 1., 0., 0., 0., 1., 0.,\n",
       "       0., 0., 0., 0., 0., 0., 0., 0., 0., 0., 0., 0., 0., 0., 0., 0., 0.,\n",
       "       0., 0., 0., 0., 1., 0., 1., 0., 0., 0., 0., 0., 0., 0., 0., 0., 0.,\n",
       "       1., 0., 0., 0., 0., 0., 0., 0., 0., 0., 0., 0., 0., 0., 0., 1., 0.,\n",
       "       0., 0., 0., 0., 0., 0., 0., 0., 0., 0., 0., 1., 0., 0., 0., 1., 0.,\n",
       "       0., 0., 0., 0., 0., 0., 0., 0., 0., 0., 0., 0., 0., 0., 0., 0., 0.,\n",
       "       0., 1., 0., 0., 0., 0., 0., 0., 0., 0., 0., 0., 0., 0., 0., 0., 0.,\n",
       "       0., 0.])"
      ]
     },
     "execution_count": 63,
     "metadata": {},
     "output_type": "execute_result"
    }
   ],
   "source": [
    "data.min(axis=1)"
   ]
  },
  {
   "cell_type": "markdown",
   "id": "528983ee",
   "metadata": {},
   "source": [
    "* Find the index of the biggest value\n",
    "* Note: The value you're about to reach is the index of our `data`'s flatten value."
   ]
  },
  {
   "cell_type": "code",
   "execution_count": 64,
   "id": "3c744930",
   "metadata": {},
   "outputs": [
    {
     "data": {
      "text/plain": [
       "2"
      ]
     },
     "execution_count": 64,
     "metadata": {},
     "output_type": "execute_result"
    }
   ],
   "source": [
    "np.argmax(data)"
   ]
  },
  {
   "cell_type": "markdown",
   "id": "7fb96b11",
   "metadata": {},
   "source": [
    "* Find the index of the smallest value"
   ]
  },
  {
   "cell_type": "code",
   "execution_count": 65,
   "id": "a1fdde05",
   "metadata": {},
   "outputs": [
    {
     "data": {
      "text/plain": [
       "5"
      ]
     },
     "execution_count": 65,
     "metadata": {},
     "output_type": "execute_result"
    }
   ],
   "source": [
    "np.argmin(data)"
   ]
  },
  {
   "cell_type": "markdown",
   "id": "f0a192a0",
   "metadata": {},
   "source": [
    "* Transpose to `data` and set it the result as `datat`"
   ]
  },
  {
   "cell_type": "code",
   "execution_count": 67,
   "id": "9157da95",
   "metadata": {},
   "outputs": [
    {
     "data": {
      "text/plain": [
       "array([[2.00e+00, 0.00e+00, 1.00e+00, ..., 7.20e+01, 1.00e+00, 0.00e+00],\n",
       "       [5.00e+01, 1.30e+01, 1.60e+01, ..., 1.00e+00, 2.00e+00, 0.00e+00],\n",
       "       [1.25e+04, 3.25e+03, 4.00e+03, ..., 2.50e+02, 3.00e+00, 0.00e+00],\n",
       "       [9.80e+01, 2.80e+01, 3.50e+01, ..., 7.20e+01, 0.00e+00, 0.00e+00],\n",
       "       [1.00e+00, 1.00e+00, 1.00e+00, ..., 0.00e+00, 0.00e+00, 0.00e+00]])"
      ]
     },
     "execution_count": 67,
     "metadata": {},
     "output_type": "execute_result"
    }
   ],
   "source": [
    "datat=data.T\n",
    "datat"
   ]
  },
  {
   "cell_type": "code",
   "execution_count": null,
   "id": "6fdd3cbe",
   "metadata": {},
   "outputs": [],
   "source": []
  }
 ],
 "metadata": {
  "kernelspec": {
   "display_name": "Python 3 (ipykernel)",
   "language": "python",
   "name": "python3"
  },
  "language_info": {
   "codemirror_mode": {
    "name": "ipython",
    "version": 3
   },
   "file_extension": ".py",
   "mimetype": "text/x-python",
   "name": "python",
   "nbconvert_exporter": "python",
   "pygments_lexer": "ipython3",
   "version": "3.9.7"
  }
 },
 "nbformat": 4,
 "nbformat_minor": 5
}
